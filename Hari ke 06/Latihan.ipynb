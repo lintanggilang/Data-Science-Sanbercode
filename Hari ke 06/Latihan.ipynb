{
 "cells": [
  {
   "cell_type": "code",
   "execution_count": 5,
   "metadata": {
    "tags": []
   },
   "outputs": [
    {
     "output_type": "stream",
     "name": "stdout",
     "text": "a    6\nb    3\nc    4\nd    6\ndtype: int64\n"
    }
   ],
   "source": [
    "import pandas as pd\n",
    "\n",
    "x = pd.Series([6,3,4,6], index = [\"a\",\"b\",\"c\",\"d\"])\n",
    "print(x)"
   ]
  },
  {
   "cell_type": "code",
   "execution_count": 6,
   "metadata": {
    "tags": []
   },
   "outputs": [
    {
     "output_type": "stream",
     "name": "stdout",
     "text": "tipe_int: tipe_string\n0         50           a\n1         21           b\n"
    }
   ],
   "source": [
    "#df = pd.DataFrame({'tipe_int': [50, 21], 'tipe_string': ['a', 'b']})\n",
    "df = pd.DataFrame({\"tipe_int:\":[50,21],\"tipe_string\":[\"a\",\"b\"]})\n",
    "print(df)"
   ]
  },
  {
   "cell_type": "code",
   "execution_count": 8,
   "metadata": {},
   "outputs": [],
   "source": [
    "df_from_csv=pd.read_csv(\"diamonds-1.csv\")"
   ]
  },
  {
   "cell_type": "code",
   "execution_count": 9,
   "metadata": {
    "tags": []
   },
   "outputs": [
    {
     "output_type": "stream",
     "name": "stdout",
     "text": "Unnamed: 0  carat        cut color clarity  depth  table  price     x  \\\n0               1   0.23      Ideal     E     SI2   61.5   55.0    326  3.95   \n1               2   0.21    Premium     E     SI1   59.8   61.0    326  3.89   \n2               3   0.23       Good     E     VS1   56.9   65.0    327  4.05   \n3               4   0.29    Premium     I     VS2   62.4   58.0    334  4.20   \n4               5   0.31       Good     J     SI2   63.3   58.0    335  4.34   \n...           ...    ...        ...   ...     ...    ...    ...    ...   ...   \n53935       53936   0.72      Ideal     D     SI1   60.8   57.0   2757  5.75   \n53936       53937   0.72       Good     D     SI1   63.1   55.0   2757  5.69   \n53937       53938   0.70  Very Good     D     SI1   62.8   60.0   2757  5.66   \n53938       53939   0.86    Premium     H     SI2   61.0   58.0   2757  6.15   \n53939       53940   0.75      Ideal     D     SI2   62.2   55.0   2757  5.83   \n\n          y     z  \n0      3.98  2.43  \n1      3.84  2.31  \n2      4.07  2.31  \n3      4.23  2.63  \n4      4.35  2.75  \n...     ...   ...  \n53935  5.76  3.50  \n53936  5.75  3.61  \n53937  5.68  3.56  \n53938  6.12  3.74  \n53939  5.87  3.64  \n\n[53940 rows x 11 columns]\n"
    }
   ],
   "source": [
    "print(df_from_csv)"
   ]
  },
  {
   "cell_type": "code",
   "execution_count": 13,
   "metadata": {
    "tags": []
   },
   "outputs": [
    {
     "output_type": "stream",
     "name": "stdout",
     "text": "<class 'pandas.core.frame.DataFrame'>\nRangeIndex: 53940 entries, 0 to 53939\nData columns (total 11 columns):\n #   Column      Non-Null Count  Dtype  \n---  ------      --------------  -----  \n 0   Unnamed: 0  53940 non-null  int64  \n 1   carat       53940 non-null  float64\n 2   cut         53940 non-null  object \n 3   color       53940 non-null  object \n 4   clarity     53940 non-null  object \n 5   depth       53940 non-null  float64\n 6   table       53940 non-null  float64\n 7   price       53940 non-null  int64  \n 8   x           53940 non-null  float64\n 9   y           53940 non-null  float64\n 10  z           53940 non-null  float64\ndtypes: float64(6), int64(2), object(3)\nmemory usage: 3.9+ MB\n"
    }
   ],
   "source": [
    "df_from_csv.info()"
   ]
  },
  {
   "cell_type": "code",
   "execution_count": 10,
   "metadata": {},
   "outputs": [
    {
     "output_type": "execute_result",
     "data": {
      "text/plain": "         Unnamed: 0         carat         depth         table         price  \\\ncount  53940.000000  53940.000000  53940.000000  53940.000000  53940.000000   \nmean   26970.500000      0.797940     61.749405     57.457184   3932.799722   \nstd    15571.281097      0.474011      1.432621      2.234491   3989.439738   \nmin        1.000000      0.200000     43.000000     43.000000    326.000000   \n25%    13485.750000      0.400000     61.000000     56.000000    950.000000   \n50%    26970.500000      0.700000     61.800000     57.000000   2401.000000   \n75%    40455.250000      1.040000     62.500000     59.000000   5324.250000   \nmax    53940.000000      5.010000     79.000000     95.000000  18823.000000   \n\n                  x             y             z  \ncount  53940.000000  53940.000000  53940.000000  \nmean       5.731157      5.734526      3.538734  \nstd        1.121761      1.142135      0.705699  \nmin        0.000000      0.000000      0.000000  \n25%        4.710000      4.720000      2.910000  \n50%        5.700000      5.710000      3.530000  \n75%        6.540000      6.540000      4.040000  \nmax       10.740000     58.900000     31.800000  ",
      "text/html": "<div>\n<style scoped>\n    .dataframe tbody tr th:only-of-type {\n        vertical-align: middle;\n    }\n\n    .dataframe tbody tr th {\n        vertical-align: top;\n    }\n\n    .dataframe thead th {\n        text-align: right;\n    }\n</style>\n<table border=\"1\" class=\"dataframe\">\n  <thead>\n    <tr style=\"text-align: right;\">\n      <th></th>\n      <th>Unnamed: 0</th>\n      <th>carat</th>\n      <th>depth</th>\n      <th>table</th>\n      <th>price</th>\n      <th>x</th>\n      <th>y</th>\n      <th>z</th>\n    </tr>\n  </thead>\n  <tbody>\n    <tr>\n      <th>count</th>\n      <td>53940.000000</td>\n      <td>53940.000000</td>\n      <td>53940.000000</td>\n      <td>53940.000000</td>\n      <td>53940.000000</td>\n      <td>53940.000000</td>\n      <td>53940.000000</td>\n      <td>53940.000000</td>\n    </tr>\n    <tr>\n      <th>mean</th>\n      <td>26970.500000</td>\n      <td>0.797940</td>\n      <td>61.749405</td>\n      <td>57.457184</td>\n      <td>3932.799722</td>\n      <td>5.731157</td>\n      <td>5.734526</td>\n      <td>3.538734</td>\n    </tr>\n    <tr>\n      <th>std</th>\n      <td>15571.281097</td>\n      <td>0.474011</td>\n      <td>1.432621</td>\n      <td>2.234491</td>\n      <td>3989.439738</td>\n      <td>1.121761</td>\n      <td>1.142135</td>\n      <td>0.705699</td>\n    </tr>\n    <tr>\n      <th>min</th>\n      <td>1.000000</td>\n      <td>0.200000</td>\n      <td>43.000000</td>\n      <td>43.000000</td>\n      <td>326.000000</td>\n      <td>0.000000</td>\n      <td>0.000000</td>\n      <td>0.000000</td>\n    </tr>\n    <tr>\n      <th>25%</th>\n      <td>13485.750000</td>\n      <td>0.400000</td>\n      <td>61.000000</td>\n      <td>56.000000</td>\n      <td>950.000000</td>\n      <td>4.710000</td>\n      <td>4.720000</td>\n      <td>2.910000</td>\n    </tr>\n    <tr>\n      <th>50%</th>\n      <td>26970.500000</td>\n      <td>0.700000</td>\n      <td>61.800000</td>\n      <td>57.000000</td>\n      <td>2401.000000</td>\n      <td>5.700000</td>\n      <td>5.710000</td>\n      <td>3.530000</td>\n    </tr>\n    <tr>\n      <th>75%</th>\n      <td>40455.250000</td>\n      <td>1.040000</td>\n      <td>62.500000</td>\n      <td>59.000000</td>\n      <td>5324.250000</td>\n      <td>6.540000</td>\n      <td>6.540000</td>\n      <td>4.040000</td>\n    </tr>\n    <tr>\n      <th>max</th>\n      <td>53940.000000</td>\n      <td>5.010000</td>\n      <td>79.000000</td>\n      <td>95.000000</td>\n      <td>18823.000000</td>\n      <td>10.740000</td>\n      <td>58.900000</td>\n      <td>31.800000</td>\n    </tr>\n  </tbody>\n</table>\n</div>"
     },
     "metadata": {},
     "execution_count": 10
    }
   ],
   "source": [
    "df_from_csv.describe()"
   ]
  },
  {
   "cell_type": "code",
   "execution_count": 11,
   "metadata": {},
   "outputs": [],
   "source": [
    "describe = pd.DataFrame(df_from_csv.describe())"
   ]
  },
  {
   "cell_type": "code",
   "execution_count": 12,
   "metadata": {
    "tags": []
   },
   "outputs": [
    {
     "output_type": "stream",
     "name": "stdout",
     "text": "Unnamed: 0         carat         depth         table         price  \\\ncount  53940.000000  53940.000000  53940.000000  53940.000000  53940.000000   \nmean   26970.500000      0.797940     61.749405     57.457184   3932.799722   \nstd    15571.281097      0.474011      1.432621      2.234491   3989.439738   \nmin        1.000000      0.200000     43.000000     43.000000    326.000000   \n25%    13485.750000      0.400000     61.000000     56.000000    950.000000   \n50%    26970.500000      0.700000     61.800000     57.000000   2401.000000   \n75%    40455.250000      1.040000     62.500000     59.000000   5324.250000   \nmax    53940.000000      5.010000     79.000000     95.000000  18823.000000   \n\n                  x             y             z  \ncount  53940.000000  53940.000000  53940.000000  \nmean       5.731157      5.734526      3.538734  \nstd        1.121761      1.142135      0.705699  \nmin        0.000000      0.000000      0.000000  \n25%        4.710000      4.720000      2.910000  \n50%        5.700000      5.710000      3.530000  \n75%        6.540000      6.540000      4.040000  \nmax       10.740000     58.900000     31.800000  \n"
    }
   ],
   "source": [
    "print(describe)"
   ]
  },
  {
   "cell_type": "code",
   "execution_count": 13,
   "metadata": {
    "tags": []
   },
   "outputs": [
    {
     "output_type": "stream",
     "name": "stdout",
     "text": "count    53940.000000\nmean      3932.799722\nstd       3989.439738\nmin        326.000000\n25%        950.000000\n50%       2401.000000\n75%       5324.250000\nmax      18823.000000\nName: price, dtype: float64\n"
    }
   ],
   "source": [
    "print(describe[\"price\"])"
   ]
  },
  {
   "cell_type": "code",
   "execution_count": 15,
   "metadata": {},
   "outputs": [
    {
     "output_type": "execute_result",
     "data": {
      "text/plain": "11210.811182507452"
     },
     "metadata": {},
     "execution_count": 15
    }
   ],
   "source": [
    "describe[\"price\"].describe()[\"mean\"]"
   ]
  },
  {
   "cell_type": "code",
   "execution_count": null,
   "metadata": {},
   "outputs": [],
   "source": []
  }
 ],
 "metadata": {
  "language_info": {
   "codemirror_mode": {
    "name": "ipython",
    "version": 3
   },
   "file_extension": ".py",
   "mimetype": "text/x-python",
   "name": "python",
   "nbconvert_exporter": "python",
   "pygments_lexer": "ipython3",
   "version": "3.8.3-final"
  },
  "orig_nbformat": 2,
  "kernelspec": {
   "name": "python38332bit80c551b5cd4f440baebd4540caf4fd7d",
   "display_name": "Python 3.8.3 32-bit"
  }
 },
 "nbformat": 4,
 "nbformat_minor": 2
}