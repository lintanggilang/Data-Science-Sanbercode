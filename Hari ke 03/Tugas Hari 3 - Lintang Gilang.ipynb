{
 "cells": [
  {
   "cell_type": "markdown",
   "metadata": {
    "colab_type": "text",
    "id": "a9HYUdCUsrKl"
   },
   "source": [
    "#contoh comparison dari tipe data string<h2>Soal 1: Comparison Operator</h2>\n",
    "\n",
    "- Berikan contoh comparison dari tipe data string\n",
    "- Berikan contoh comparison dari tipe data boolean\n",
    "- Berikan contoh comparison dari tipe data integer"
   ]
  },
  {
   "cell_type": "code",
   "execution_count": 2,
   "metadata": {
    "tags": []
   },
   "outputs": [
    {
     "name": "stdout",
     "output_type": "stream",
     "text": [
      "input string 1 : lintang\n",
      "input string 2 : gilang\n",
      "apakah lintang  dan  gilang  sama ? False\n"
     ]
    }
   ],
   "source": [
    "#contoh comparison dari tipe data string (=)\n",
    "string1 = str(input(\"input string 1 : \"))\n",
    "string2 = str(input(\"input string 2 : \"))\n",
    "comp_string = (string1 == string2)\n",
    "print(\"apakah\", string1, \" dan \", string2, \" sama ?\", comp_string)"
   ]
  },
  {
   "cell_type": "code",
   "execution_count": 48,
   "metadata": {
    "tags": []
   },
   "outputs": [
    {
     "name": "stdout",
     "output_type": "stream",
     "text": [
      "apakah hasil dari operasi AND dari True dan True ? True\n"
     ]
    }
   ],
   "source": [
    "#contoh comparison dari tipe data boolean (and)\n",
    "boolean1 = True\n",
    "boolean2 = True\n",
    "\n",
    "comp_boolean = (boolean1 and boolean2)\n",
    "print(\"apakah hasil dari operasi AND dari\", boolean1, \"dan\", boolean2, \"?\", comp_boolean)"
   ]
  },
  {
   "cell_type": "code",
   "execution_count": 1,
   "metadata": {
    "tags": []
   },
   "outputs": [
    {
     "name": "stdout",
     "output_type": "stream",
     "text": [
      "input integer 1 : 10\n",
      "input integer 2 : 10\n",
      "apakah  10 > 10 ? False\n"
     ]
    }
   ],
   "source": [
    "#contoh comparison dari tipe data integer (>)\n",
    "int1 = int(input(\"input integer 1 : \"))\n",
    "int2 = int(input(\"input integer 2 : \"))\n",
    "comp_int = (int1 > int2)\n",
    "print(\"apakah \", int1, \">\", int2, \"?\", comp_int)"
   ]
  },
  {
   "cell_type": "markdown",
   "metadata": {
    "colab_type": "text",
    "id": "IbNoZvVssrK5"
   },
   "source": [
    "<h2>Soal 2: Boolean Comparison</h2>\n",
    "\n",
    "- Berikan contoh gabungan multiple comparison menggunkan Boolean Comparisin 'and'\n",
    "- Berikan contoh gabungan multiple comparison menggunkan Boolean Comparisin 'or'\n",
    "- Berikan contoh gabungan multiple comparison menggunkan Boolean Comparisin 'not'"
   ]
  },
  {
   "cell_type": "code",
   "execution_count": 3,
   "metadata": {
    "colab": {},
    "colab_type": "code",
    "id": "7eU1vPLCsrK7",
    "tags": []
   },
   "outputs": [
    {
     "name": "stdout",
     "output_type": "stream",
     "text": [
      "False\n",
      "True\n",
      "True\n"
     ]
    }
   ],
   "source": [
    "#Inisiasi\n",
    "boolean1 = True\n",
    "boolean2 = True\n",
    "boolean3 = False\n",
    "\n",
    "#Berikan contoh gabungan multiple comparison menggunkan Boolean Comparisin 'and'\n",
    "mult_comp_boolean_and = (boolean1 and boolean2) and boolean3\n",
    "print(mult_comp_boolean_and)\n",
    "\n",
    "#Berikan contoh gabungan multiple comparison menggunkan Boolean Comparisin 'or'\n",
    "mult_comp_boolean_or = (boolean1 or boolean2) or boolean3\n",
    "print(mult_comp_boolean_or)\n",
    "\n",
    "#Berikan contoh gabungan multiple comparison menggunkan Boolean Comparisin 'not'\n",
    "mult_comp_boolean_not = not((boolean1 and boolean2) and boolean3)\n",
    "print(mult_comp_boolean_not)"
   ]
  },
  {
   "cell_type": "markdown",
   "metadata": {
    "colab_type": "text",
    "id": "Yp_g_sPMsrLH"
   },
   "source": [
    "<h2>Soal 3: If-Else Statement</h2>\n",
    "\n",
    "Lengkapi kode untuk menghasilkan suatu output yang di harapkan\n",
    "\n",
    "- Bualah sebuah if-else statement yang dimana akan mem-print 'Besar' jika ruangan adalah 'Kamar' dan ukuran lebih dari 12, kemudian mem-print 'Sedang' jika ruangan adalah 'Kamar' dan ukuran lebih dari 6 dan memprint 'Kecil' jika ruangan adalah 'Kamar' dan ukuran ruangan lebih kecil dan sama dengan 6."
   ]
  },
  {
   "cell_type": "code",
   "execution_count": 4,
   "metadata": {
    "colab": {},
    "colab_type": "code",
    "id": "euRiRNupsrLK",
    "tags": []
   },
   "outputs": [
    {
     "name": "stdout",
     "output_type": "stream",
     "text": [
      "Besar\n"
     ]
    }
   ],
   "source": [
    "\n",
    "ruangan = \"Kamar\"\n",
    "size = 20\n",
    "\n",
    "if (size > 12) and (ruangan == 'Kamar'):\n",
    "    print('Besar')\n",
    "elif (size > 6) and (ruangan == 'Kamar'):\n",
    "    print('Sedang')\n",
    "elif (size < 6) and (ruangan == 'Kamar'):\n",
    "    print('Kecil')\n",
    "else:\n",
    "    print(\"bukan kamar tidur\")\n"
   ]
  },
  {
   "cell_type": "markdown",
   "metadata": {
    "colab_type": "text",
    "id": "IcoJXJT1srLW"
   },
   "source": [
    "<h2>Soal 4: Comparison Operator dengan fungsi</h2>\n",
    "\n",
    "Buatlah sebuah fungsi yang menerima satu argument bertipe data numeric dan menghasilkan sebuah return sebagai berikut :\n",
    "- menghasilkan return 'Aneh' jika nilai dari argument tersebut adalah bilangan ganjil\n",
    "- menghasilkan return 'Tidak Aneh' jika nilai dari argument tersebut adalah bilangan genap dan diantara nilai 2 sampai 5 (2 dan 5 termasuk)\n",
    "- menghasilkan return 'Aneh' jika nilai dari argument tersebut adalah bilangan genap dan diantara nilai 6 sampai 20 (6 dan 20 termasuk)\n",
    "- menghasilkan return 'Tidak Aneh' jika nilai dari argument tersebut adalah bilangan genap dan lebih besari dari 20"
   ]
  },
  {
   "cell_type": "code",
   "execution_count": 9,
   "metadata": {
    "colab": {},
    "colab_type": "code",
    "id": "g8F_qfEKsrLZ",
    "tags": []
   },
   "outputs": [
    {
     "name": "stdout",
     "output_type": "stream",
     "text": [
      "input angka : 50\n",
      "Tidak Aneh\n"
     ]
    }
   ],
   "source": [
    "angka = int(input(\"input angka : \"))\n",
    "\n",
    "def keanehan(angka):\n",
    "    if angka % 2 != 0:\n",
    "        print(\"Aneh\")\n",
    "    elif (angka % 2 == 0) and (2 <= angka <= 5):\n",
    "        print(\"Tidak Aneh\")\n",
    "    elif (angka % 2 == 0) and (6 <= angka <= 20):\n",
    "        print(\"Aneh\")\n",
    "    elif (angka % 2 == 0) and (angka > 20):\n",
    "        print(\"Tidak Aneh\")\n",
    "\n",
    "keanehan(angka)\n"
   ]
  },
  {
   "cell_type": "markdown",
   "metadata": {
    "colab_type": "text",
    "id": "gf0D64xOsrLl"
   },
   "source": [
    "<h2>Soal 5: While Loop dan For Loop</h2>\n",
    "\n",
    "- Apa perbedaan while loop dan for loop?\n",
    "- Berikan contoh sederhana cara menggunakan while loop dan for loop"
   ]
  },
  {
   "cell_type": "markdown",
   "metadata": {
    "colab": {},
    "colab_type": "code",
    "id": "l7KIgpjHsrLo"
   },
   "source": [
    "JAWAB :\n",
    "\n",
    "Perulangan \"while loop\" untuk perulangan yang memiliki syarat dan tidak tentu berapa banyak perulangannya. Sedangkan pada \"for loop\" biasanya digunakan untuk mengulangi kode yang sudah diketahui banyak perulangannya. "
   ]
  },
  {
   "cell_type": "markdown",
   "metadata": {
    "colab_type": "text",
    "id": "fZQpBGCgsrLz"
   },
   "source": [
    "<h2>Soal 6: While Loop</h2>\n",
    "    \n",
    "Buatlah sebuah code while loop sebagai berikut :\n",
    "\n",
    "- Buatlah suatu fungsi yang merima satu input nilai numeric\n",
    "\n",
    "- Dalam fungsi, Buat sebuah while-loop dengan melakukan comparasi terhadap inputan tersebut, dimana looping/iterasi terus berjalan apabila nilai inputan tidak sama dengan 0\n",
    "\n",
    "- Dalam setiap iterasi update nilai variable inputan itu, jika input lebih dari 0, maka kurangi variabel tersebut sebesar 1, selain itu tambahkan 1\n",
    "\n",
    "- print nilai variable input dalam setiap awal iterasi"
   ]
  },
  {
   "cell_type": "code",
   "execution_count": 6,
   "metadata": {
    "colab": {},
    "colab_type": "code",
    "id": "yOiqjrU2srL1",
    "tags": []
   },
   "outputs": [
    {
     "name": "stdout",
     "output_type": "stream",
     "text": [
      "10\n",
      "\n",
      "\n",
      "9\n",
      "\n",
      "\n",
      "8\n",
      "\n",
      "\n",
      "7\n",
      "\n",
      "\n",
      "6\n",
      "\n",
      "\n",
      "5\n",
      "\n",
      "\n",
      "4\n",
      "\n",
      "\n",
      "3\n",
      "\n",
      "\n",
      "2\n",
      "\n",
      "\n",
      "1\n"
     ]
    }
   ],
   "source": [
    "a = 10\n",
    "\n",
    "def fungsi_while(input):\n",
    "    print(a)\n",
    "    while(input !=0):\n",
    "        if (input > 0): #jika a > 0\n",
    "            input-=1\n",
    "            if input == 0:\n",
    "                break\n",
    "            print(\"\\n\")\n",
    "            print(input)\n",
    "        elif (input < 0): #jika a < 0\n",
    "            input+=1\n",
    "            if input == 0:\n",
    "                break\n",
    "            print(\"\\n\")\n",
    "            print(input)\n",
    "\n",
    "fungsi_while(a)"
   ]
  },
  {
   "cell_type": "markdown",
   "metadata": {
    "colab_type": "text",
    "id": "lKzngRrlsrMD"
   },
   "source": [
    "Expected Output:\n",
    "\n",
    "10\n",
    "\n",
    "9\n",
    "\n",
    "8\n",
    "\n",
    "7\n",
    "\n",
    "6\n",
    "\n",
    "5\n",
    "\n",
    "4\n",
    "\n",
    "3\n",
    "\n",
    "2\n",
    "\n",
    "1"
   ]
  },
  {
   "cell_type": "markdown",
   "metadata": {
    "colab_type": "text",
    "id": "IWg3Z_zZsrMG"
   },
   "source": [
    "<h2>Soal 7: For Loop</h2>\n",
    "    \n",
    "Lengkapi kode untuk menghasilkan suatu output yang di harapkan:\n",
    "\n",
    "- Buatlah sebuah loop dengan mengiterasi sebuah objek list kemudian di kalikan dengan index dari list tersebut dan print hasilnya"
   ]
  },
  {
   "cell_type": "code",
   "execution_count": 2,
   "metadata": {
    "colab": {},
    "colab_type": "code",
    "id": "_Jl5i7WKsrMI",
    "tags": []
   },
   "outputs": [
    {
     "name": "stdout",
     "output_type": "stream",
     "text": [
      "\n",
      "\n",
      "0\n",
      "\n",
      "\n",
      "16\n",
      "\n",
      "\n",
      "22\n",
      "\n",
      "\n",
      "30\n",
      "\n",
      "\n",
      "20\n"
     ]
    }
   ],
   "source": [
    "obj_list= [1, 16, 11, 10, 5]\n",
    "\n",
    "#print(obj_list[0])\n",
    "#print(obj_list[1])\n",
    "#print (len(obj_list))\n",
    "\n",
    "#lengkapi code di bawah\n",
    "for i in obj_list:\n",
    "    index = obj_list.index(i)\n",
    "    result = index * i\n",
    "    print(\"\\n\")\n",
    "    print (result)\n",
    "\n"
   ]
  },
  {
   "cell_type": "markdown",
   "metadata": {
    "colab_type": "text",
    "id": "OGawROjnsrMU"
   },
   "source": [
    "Expected Output:\n",
    "\n",
    "0\n",
    "\n",
    "16\n",
    "\n",
    "22\n",
    "\n",
    "30\n",
    "\n",
    "20\n"
   ]
  }
 ],
 "metadata": {
  "colab": {
   "name": "Tugas Hari 4.ipynb",
   "provenance": []
  },
  "kernelspec": {
   "display_name": "Python 3",
   "language": "python",
   "name": "python3"
  },
  "language_info": {
   "codemirror_mode": {
    "name": "ipython",
    "version": 3
   },
   "file_extension": ".py",
   "mimetype": "text/x-python",
   "name": "python",
   "nbconvert_exporter": "python",
   "pygments_lexer": "ipython3",
   "version": "3.7.6"
  }
 },
 "nbformat": 4,
 "nbformat_minor": 1
}
