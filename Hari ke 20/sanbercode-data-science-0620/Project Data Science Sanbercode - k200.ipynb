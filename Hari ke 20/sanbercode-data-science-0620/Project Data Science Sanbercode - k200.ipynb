{
 "cells": [
  {
   "cell_type": "code",
   "execution_count": 160,
   "metadata": {},
   "outputs": [],
   "source": [
    "###############################################################################################################################"
   ]
  },
  {
   "cell_type": "code",
   "execution_count": 161,
   "metadata": {},
   "outputs": [],
   "source": [
    "### Memeriksa dan membaca data"
   ]
  },
  {
   "cell_type": "code",
   "execution_count": 162,
   "metadata": {},
   "outputs": [],
   "source": [
    "import pandas as pd\n",
    "import numpy as np"
   ]
  },
  {
   "cell_type": "code",
   "execution_count": 163,
   "metadata": {
    "tags": []
   },
   "outputs": [],
   "source": [
    "df = pd.read_excel(\"Result EDA excel train.xlsx\")"
   ]
  },
  {
   "cell_type": "code",
   "execution_count": 164,
   "metadata": {},
   "outputs": [
    {
     "output_type": "execute_result",
     "data": {
      "text/plain": "(35994, 13)"
     },
     "metadata": {},
     "execution_count": 164
    }
   ],
   "source": [
    "df.shape"
   ]
  },
  {
   "cell_type": "code",
   "execution_count": 165,
   "metadata": {},
   "outputs": [
    {
     "output_type": "execute_result",
     "data": {
      "text/plain": "   id  Umur  Kelas Pekerja  Berat Akhir  Pendidikan  Jmlh Tahun Pendidikan  \\\n0   0    21              9       242912          15                      9   \n1   1    49              9       140782           8                      6   \n2   2    44              9       120057           9                     12   \n3   3    24              9       194630          16                     13   \n4   4    33              9       219619          13                     14   \n\n   Status Perkawinan  Pekerjaan  Jenis Kelamin  Keuntungan Kapital  \\\n0                  5          5              1                 0.0   \n1                  4         15              1                 0.0   \n2                  6         15              2          61404000.0   \n3                  5         14              2                 0.0   \n4                  6         14              2         210336000.0   \n\n   Kerugian Capital  Jam per Minggu   Gaji  \n0               0.0            35.0  <=7jt  \n1               0.0            40.0  <=7jt  \n2               0.0            45.0   >7jt  \n3               0.0            35.0  <=7jt  \n4               0.0            40.0   >7jt  ",
      "text/html": "<div>\n<style scoped>\n    .dataframe tbody tr th:only-of-type {\n        vertical-align: middle;\n    }\n\n    .dataframe tbody tr th {\n        vertical-align: top;\n    }\n\n    .dataframe thead th {\n        text-align: right;\n    }\n</style>\n<table border=\"1\" class=\"dataframe\">\n  <thead>\n    <tr style=\"text-align: right;\">\n      <th></th>\n      <th>id</th>\n      <th>Umur</th>\n      <th>Kelas Pekerja</th>\n      <th>Berat Akhir</th>\n      <th>Pendidikan</th>\n      <th>Jmlh Tahun Pendidikan</th>\n      <th>Status Perkawinan</th>\n      <th>Pekerjaan</th>\n      <th>Jenis Kelamin</th>\n      <th>Keuntungan Kapital</th>\n      <th>Kerugian Capital</th>\n      <th>Jam per Minggu</th>\n      <th>Gaji</th>\n    </tr>\n  </thead>\n  <tbody>\n    <tr>\n      <th>0</th>\n      <td>0</td>\n      <td>21</td>\n      <td>9</td>\n      <td>242912</td>\n      <td>15</td>\n      <td>9</td>\n      <td>5</td>\n      <td>5</td>\n      <td>1</td>\n      <td>0.0</td>\n      <td>0.0</td>\n      <td>35.0</td>\n      <td>&lt;=7jt</td>\n    </tr>\n    <tr>\n      <th>1</th>\n      <td>1</td>\n      <td>49</td>\n      <td>9</td>\n      <td>140782</td>\n      <td>8</td>\n      <td>6</td>\n      <td>4</td>\n      <td>15</td>\n      <td>1</td>\n      <td>0.0</td>\n      <td>0.0</td>\n      <td>40.0</td>\n      <td>&lt;=7jt</td>\n    </tr>\n    <tr>\n      <th>2</th>\n      <td>2</td>\n      <td>44</td>\n      <td>9</td>\n      <td>120057</td>\n      <td>9</td>\n      <td>12</td>\n      <td>6</td>\n      <td>15</td>\n      <td>2</td>\n      <td>61404000.0</td>\n      <td>0.0</td>\n      <td>45.0</td>\n      <td>&gt;7jt</td>\n    </tr>\n    <tr>\n      <th>3</th>\n      <td>3</td>\n      <td>24</td>\n      <td>9</td>\n      <td>194630</td>\n      <td>16</td>\n      <td>13</td>\n      <td>5</td>\n      <td>14</td>\n      <td>2</td>\n      <td>0.0</td>\n      <td>0.0</td>\n      <td>35.0</td>\n      <td>&lt;=7jt</td>\n    </tr>\n    <tr>\n      <th>4</th>\n      <td>4</td>\n      <td>33</td>\n      <td>9</td>\n      <td>219619</td>\n      <td>13</td>\n      <td>14</td>\n      <td>6</td>\n      <td>14</td>\n      <td>2</td>\n      <td>210336000.0</td>\n      <td>0.0</td>\n      <td>40.0</td>\n      <td>&gt;7jt</td>\n    </tr>\n  </tbody>\n</table>\n</div>"
     },
     "metadata": {},
     "execution_count": 165
    }
   ],
   "source": [
    "df.head()"
   ]
  },
  {
   "cell_type": "code",
   "execution_count": 166,
   "metadata": {},
   "outputs": [],
   "source": [
    "# Menambahkan Data Dummies pada \"Kelas Pekerja\", \"Pendidikan\", \"Status Perkawinan\" , \"Pekerjaan\" , \"Jenis Kelamin\"\n",
    "#df = pd.get_dummies(df, columns=[\"Kelas Pekerja\", \"Pendidikan\", \"Status Perkawinan\" , \"Pekerjaan\" , \"Jenis Kelamin\"])\n",
    "#df = pd.get_dummies(df, columns=[\"Kelas Pekerja\", \"Pekerjaan\"])"
   ]
  },
  {
   "cell_type": "code",
   "execution_count": 167,
   "metadata": {},
   "outputs": [],
   "source": [
    "#Merubah variabel target\n",
    "gaji_dict = {\n",
    "    \"<=7jt\" : 0,\n",
    "    \">7jt\" : 1\n",
    "}"
   ]
  },
  {
   "cell_type": "code",
   "execution_count": 168,
   "metadata": {},
   "outputs": [],
   "source": [
    "df[\"Gaji\"] =  df[\"Gaji\"].replace(gaji_dict)"
   ]
  },
  {
   "cell_type": "code",
   "execution_count": 169,
   "metadata": {},
   "outputs": [
    {
     "output_type": "execute_result",
     "data": {
      "text/plain": "(35994, 13)"
     },
     "metadata": {},
     "execution_count": 169
    }
   ],
   "source": [
    "df.shape"
   ]
  },
  {
   "cell_type": "code",
   "execution_count": 171,
   "metadata": {
    "tags": []
   },
   "outputs": [
    {
     "output_type": "stream",
     "name": "stdout",
     "text": "<class 'pandas.core.frame.DataFrame'>\nRangeIndex: 35994 entries, 0 to 35993\nData columns (total 13 columns):\n #   Column                 Non-Null Count  Dtype  \n---  ------                 --------------  -----  \n 0   id                     35994 non-null  int64  \n 1   Umur                   35994 non-null  int64  \n 2   Kelas Pekerja          35994 non-null  int64  \n 3   Berat Akhir            35994 non-null  int64  \n 4   Pendidikan             35994 non-null  int64  \n 5   Jmlh Tahun Pendidikan  35994 non-null  int64  \n 6   Status Perkawinan      35994 non-null  int64  \n 7   Pekerjaan              35994 non-null  int64  \n 8   Jenis Kelamin          35994 non-null  int64  \n 9   Keuntungan Kapital     35994 non-null  float64\n 10  Kerugian Capital       35994 non-null  float64\n 11  Jam per Minggu         35994 non-null  float64\n 12  Gaji                   35994 non-null  int64  \ndtypes: float64(3), int64(10)\nmemory usage: 3.6 MB\n"
    }
   ],
   "source": [
    "df.info()"
   ]
  },
  {
   "cell_type": "code",
   "execution_count": 172,
   "metadata": {},
   "outputs": [],
   "source": [
    "###############################################################################################################################"
   ]
  },
  {
   "cell_type": "code",
   "execution_count": 173,
   "metadata": {},
   "outputs": [],
   "source": [
    "from scipy import stats"
   ]
  },
  {
   "cell_type": "code",
   "execution_count": 174,
   "metadata": {},
   "outputs": [],
   "source": [
    "z = stats.zscore(df)"
   ]
  },
  {
   "cell_type": "code",
   "execution_count": 175,
   "metadata": {
    "tags": []
   },
   "outputs": [],
   "source": [
    "zs = np.where(z>3)"
   ]
  },
  {
   "cell_type": "code",
   "execution_count": 176,
   "metadata": {},
   "outputs": [],
   "source": [
    "zss = pd.DataFrame(zs)"
   ]
  },
  {
   "cell_type": "code",
   "execution_count": 177,
   "metadata": {},
   "outputs": [
    {
     "output_type": "execute_result",
     "data": {
      "text/plain": "   0     1     2     3     4     5     6     7     8     9     ...   2771  \\\n0     5    11    32    50    53    56    80    90    97   116  ...  35876   \n1    10    10     9    10    10     1    10    10    10    10  ...     10   \n\n    2772   2773   2774   2775   2776   2777   2778   2779   2780  \n0  35891  35901  35902  35911  35965  35971  35976  35980  35981  \n1     10     10     10     10     10      1     10     10      1  \n\n[2 rows x 2781 columns]",
      "text/html": "<div>\n<style scoped>\n    .dataframe tbody tr th:only-of-type {\n        vertical-align: middle;\n    }\n\n    .dataframe tbody tr th {\n        vertical-align: top;\n    }\n\n    .dataframe thead th {\n        text-align: right;\n    }\n</style>\n<table border=\"1\" class=\"dataframe\">\n  <thead>\n    <tr style=\"text-align: right;\">\n      <th></th>\n      <th>0</th>\n      <th>1</th>\n      <th>2</th>\n      <th>3</th>\n      <th>4</th>\n      <th>5</th>\n      <th>6</th>\n      <th>7</th>\n      <th>8</th>\n      <th>9</th>\n      <th>...</th>\n      <th>2771</th>\n      <th>2772</th>\n      <th>2773</th>\n      <th>2774</th>\n      <th>2775</th>\n      <th>2776</th>\n      <th>2777</th>\n      <th>2778</th>\n      <th>2779</th>\n      <th>2780</th>\n    </tr>\n  </thead>\n  <tbody>\n    <tr>\n      <th>0</th>\n      <td>5</td>\n      <td>11</td>\n      <td>32</td>\n      <td>50</td>\n      <td>53</td>\n      <td>56</td>\n      <td>80</td>\n      <td>90</td>\n      <td>97</td>\n      <td>116</td>\n      <td>...</td>\n      <td>35876</td>\n      <td>35891</td>\n      <td>35901</td>\n      <td>35902</td>\n      <td>35911</td>\n      <td>35965</td>\n      <td>35971</td>\n      <td>35976</td>\n      <td>35980</td>\n      <td>35981</td>\n    </tr>\n    <tr>\n      <th>1</th>\n      <td>10</td>\n      <td>10</td>\n      <td>9</td>\n      <td>10</td>\n      <td>10</td>\n      <td>1</td>\n      <td>10</td>\n      <td>10</td>\n      <td>10</td>\n      <td>10</td>\n      <td>...</td>\n      <td>10</td>\n      <td>10</td>\n      <td>10</td>\n      <td>10</td>\n      <td>10</td>\n      <td>10</td>\n      <td>1</td>\n      <td>10</td>\n      <td>10</td>\n      <td>1</td>\n    </tr>\n  </tbody>\n</table>\n<p>2 rows × 2781 columns</p>\n</div>"
     },
     "metadata": {},
     "execution_count": 177
    }
   ],
   "source": [
    "zss"
   ]
  },
  {
   "cell_type": "code",
   "execution_count": 178,
   "metadata": {},
   "outputs": [],
   "source": [
    "### Menjalan kan algoritma KKN"
   ]
  },
  {
   "cell_type": "code",
   "execution_count": 179,
   "metadata": {},
   "outputs": [],
   "source": [
    "from sklearn.neighbors import KNeighborsClassifier"
   ]
  },
  {
   "cell_type": "code",
   "execution_count": 180,
   "metadata": {},
   "outputs": [],
   "source": [
    "model_knn = KNeighborsClassifier(n_neighbors = 46, weights='distance')\n",
    "#{'n_neighbors': 46, 'weights': 'distance'}"
   ]
  },
  {
   "cell_type": "code",
   "execution_count": 181,
   "metadata": {},
   "outputs": [],
   "source": [
    "X = df.drop([\"id\",\"Gaji\"], axis = 1)\n",
    "y = df[\"Gaji\"]"
   ]
  },
  {
   "cell_type": "code",
   "execution_count": 182,
   "metadata": {
    "tags": []
   },
   "outputs": [
    {
     "output_type": "stream",
     "name": "stdout",
     "text": "<class 'pandas.core.frame.DataFrame'>\nRangeIndex: 35994 entries, 0 to 35993\nData columns (total 11 columns):\n #   Column                 Non-Null Count  Dtype  \n---  ------                 --------------  -----  \n 0   Umur                   35994 non-null  int64  \n 1   Kelas Pekerja          35994 non-null  int64  \n 2   Berat Akhir            35994 non-null  int64  \n 3   Pendidikan             35994 non-null  int64  \n 4   Jmlh Tahun Pendidikan  35994 non-null  int64  \n 5   Status Perkawinan      35994 non-null  int64  \n 6   Pekerjaan              35994 non-null  int64  \n 7   Jenis Kelamin          35994 non-null  int64  \n 8   Keuntungan Kapital     35994 non-null  float64\n 9   Kerugian Capital       35994 non-null  float64\n 10  Jam per Minggu         35994 non-null  float64\ndtypes: float64(3), int64(8)\nmemory usage: 3.0 MB\n"
    }
   ],
   "source": [
    "X.info()"
   ]
  },
  {
   "cell_type": "code",
   "execution_count": 183,
   "metadata": {},
   "outputs": [
    {
     "output_type": "execute_result",
     "data": {
      "text/plain": "0        0\n1        0\n2        1\n3        0\n4        1\n        ..\n35989    0\n35990    1\n35991    1\n35992    0\n35993    1\nName: Gaji, Length: 35994, dtype: int64"
     },
     "metadata": {},
     "execution_count": 183
    }
   ],
   "source": [
    "y"
   ]
  },
  {
   "cell_type": "code",
   "execution_count": 184,
   "metadata": {},
   "outputs": [
    {
     "output_type": "execute_result",
     "data": {
      "text/plain": "KNeighborsClassifier(n_neighbors=46, weights='distance')"
     },
     "metadata": {},
     "execution_count": 184
    }
   ],
   "source": [
    "model_knn.fit(X,y)"
   ]
  },
  {
   "cell_type": "code",
   "execution_count": 185,
   "metadata": {},
   "outputs": [],
   "source": [
    "##############################################################################################################################"
   ]
  },
  {
   "cell_type": "code",
   "execution_count": 186,
   "metadata": {},
   "outputs": [],
   "source": [
    "### Melakukan Evaluasi algoritma"
   ]
  },
  {
   "cell_type": "code",
   "execution_count": 187,
   "metadata": {},
   "outputs": [],
   "source": [
    "from sklearn.model_selection import GridSearchCV"
   ]
  },
  {
   "cell_type": "code",
   "execution_count": 188,
   "metadata": {},
   "outputs": [],
   "source": [
    "# model = KNeighborsClassifier()\n",
    "# #n_neighbors\n",
    "# #weights\n",
    "# GridSearchCV?\n",
    "# parameter = {\"n_neighbors\" : np.arange(3, 50), \"weights\" : [\"distance\", \"uniform\"]}\n",
    "# gscv = GridSearchCV(model, param_grid = parameter, scoring = \"accuracy\", cv=5)\n",
    "# gscv.fit(X,y)"
   ]
  },
  {
   "cell_type": "code",
   "execution_count": 194,
   "metadata": {},
   "outputs": [],
   "source": [
    "#gscv.best_params_"
   ]
  },
  {
   "cell_type": "code",
   "execution_count": 195,
   "metadata": {},
   "outputs": [],
   "source": [
    "########################################################################################################################################"
   ]
  },
  {
   "cell_type": "code",
   "execution_count": 196,
   "metadata": {},
   "outputs": [],
   "source": [
    "from sklearn.metrics import accuracy_score\n",
    "from sklearn.model_selection import train_test_split"
   ]
  },
  {
   "cell_type": "code",
   "execution_count": 198,
   "metadata": {},
   "outputs": [],
   "source": [
    "x_train, x_test, y_train, y_test = train_test_split(X, y, test_size = 0.2, random_state=0, stratify=y)"
   ]
  },
  {
   "cell_type": "code",
   "execution_count": 199,
   "metadata": {},
   "outputs": [],
   "source": [
    "y_prediksi = model_knn.predict(x_test)"
   ]
  },
  {
   "cell_type": "code",
   "execution_count": 200,
   "metadata": {},
   "outputs": [],
   "source": [
    "score = accuracy_score(y_test, y_prediksi)"
   ]
  },
  {
   "cell_type": "code",
   "execution_count": 201,
   "metadata": {},
   "outputs": [
    {
     "output_type": "execute_result",
     "data": {
      "text/plain": "1.0"
     },
     "metadata": {},
     "execution_count": 201
    }
   ],
   "source": [
    "score"
   ]
  },
  {
   "cell_type": "code",
   "execution_count": 202,
   "metadata": {},
   "outputs": [],
   "source": [
    "from sklearn.metrics import roc_auc_score"
   ]
  },
  {
   "cell_type": "code",
   "execution_count": 203,
   "metadata": {},
   "outputs": [],
   "source": [
    "score_auc = roc_auc_score(y_test, y_prediksi)"
   ]
  },
  {
   "cell_type": "code",
   "execution_count": 204,
   "metadata": {},
   "outputs": [
    {
     "output_type": "execute_result",
     "data": {
      "text/plain": "1.0"
     },
     "metadata": {},
     "execution_count": 204
    }
   ],
   "source": [
    "score_auc"
   ]
  },
  {
   "cell_type": "code",
   "execution_count": 205,
   "metadata": {},
   "outputs": [],
   "source": [
    "#############################################################################################################################"
   ]
  },
  {
   "cell_type": "code",
   "execution_count": 206,
   "metadata": {},
   "outputs": [],
   "source": [
    "##### Memprediksi data rilll"
   ]
  },
  {
   "cell_type": "code",
   "execution_count": 207,
   "metadata": {
    "tags": []
   },
   "outputs": [],
   "source": [
    "df_Test = pd.read_excel(\"EDA test.xlsx\")"
   ]
  },
  {
   "cell_type": "code",
   "execution_count": 208,
   "metadata": {},
   "outputs": [],
   "source": [
    "X_Test = df_Test.drop([\"id\"], axis = 1)"
   ]
  },
  {
   "cell_type": "code",
   "execution_count": 209,
   "metadata": {},
   "outputs": [
    {
     "output_type": "execute_result",
     "data": {
      "text/plain": "(9599, 11)"
     },
     "metadata": {},
     "execution_count": 209
    }
   ],
   "source": [
    "X_Test.shape"
   ]
  },
  {
   "cell_type": "code",
   "execution_count": 210,
   "metadata": {},
   "outputs": [],
   "source": [
    "###############################################################################################################################"
   ]
  },
  {
   "cell_type": "code",
   "execution_count": 211,
   "metadata": {},
   "outputs": [],
   "source": [
    "y_predik = model_knn.predict(X_Test)"
   ]
  },
  {
   "cell_type": "code",
   "execution_count": 212,
   "metadata": {},
   "outputs": [
    {
     "output_type": "execute_result",
     "data": {
      "text/plain": "array([0, 0, 0, ..., 0, 0, 0], dtype=int64)"
     },
     "metadata": {},
     "execution_count": 212
    }
   ],
   "source": [
    "y_predik"
   ]
  },
  {
   "cell_type": "code",
   "execution_count": 213,
   "metadata": {},
   "outputs": [],
   "source": [
    "################################################################################################################################"
   ]
  },
  {
   "cell_type": "code",
   "execution_count": 214,
   "metadata": {},
   "outputs": [],
   "source": [
    "data_id = df_Test[\"id\"]"
   ]
  },
  {
   "cell_type": "code",
   "execution_count": 215,
   "metadata": {},
   "outputs": [],
   "source": [
    "df_id = pd.DataFrame(data_id)"
   ]
  },
  {
   "cell_type": "code",
   "execution_count": 216,
   "metadata": {},
   "outputs": [
    {
     "output_type": "execute_result",
     "data": {
      "text/plain": "         id\n0     35994\n1     35995\n2     35996\n3     35997\n4     35998\n...     ...\n9594  45588\n9595  45589\n9596  45590\n9597  45591\n9598  45592\n\n[9599 rows x 1 columns]",
      "text/html": "<div>\n<style scoped>\n    .dataframe tbody tr th:only-of-type {\n        vertical-align: middle;\n    }\n\n    .dataframe tbody tr th {\n        vertical-align: top;\n    }\n\n    .dataframe thead th {\n        text-align: right;\n    }\n</style>\n<table border=\"1\" class=\"dataframe\">\n  <thead>\n    <tr style=\"text-align: right;\">\n      <th></th>\n      <th>id</th>\n    </tr>\n  </thead>\n  <tbody>\n    <tr>\n      <th>0</th>\n      <td>35994</td>\n    </tr>\n    <tr>\n      <th>1</th>\n      <td>35995</td>\n    </tr>\n    <tr>\n      <th>2</th>\n      <td>35996</td>\n    </tr>\n    <tr>\n      <th>3</th>\n      <td>35997</td>\n    </tr>\n    <tr>\n      <th>4</th>\n      <td>35998</td>\n    </tr>\n    <tr>\n      <th>...</th>\n      <td>...</td>\n    </tr>\n    <tr>\n      <th>9594</th>\n      <td>45588</td>\n    </tr>\n    <tr>\n      <th>9595</th>\n      <td>45589</td>\n    </tr>\n    <tr>\n      <th>9596</th>\n      <td>45590</td>\n    </tr>\n    <tr>\n      <th>9597</th>\n      <td>45591</td>\n    </tr>\n    <tr>\n      <th>9598</th>\n      <td>45592</td>\n    </tr>\n  </tbody>\n</table>\n<p>9599 rows × 1 columns</p>\n</div>"
     },
     "metadata": {},
     "execution_count": 216
    }
   ],
   "source": [
    "df_id"
   ]
  },
  {
   "cell_type": "code",
   "execution_count": 217,
   "metadata": {},
   "outputs": [],
   "source": [
    "data_gaji = {'Gaji':y_predik}"
   ]
  },
  {
   "cell_type": "code",
   "execution_count": 218,
   "metadata": {},
   "outputs": [],
   "source": [
    "prediksi = pd.DataFrame(data_gaji)"
   ]
  },
  {
   "cell_type": "code",
   "execution_count": 219,
   "metadata": {},
   "outputs": [
    {
     "output_type": "execute_result",
     "data": {
      "text/plain": "pandas.core.frame.DataFrame"
     },
     "metadata": {},
     "execution_count": 219
    }
   ],
   "source": [
    "type(prediksi)"
   ]
  },
  {
   "cell_type": "code",
   "execution_count": 220,
   "metadata": {},
   "outputs": [
    {
     "output_type": "execute_result",
     "data": {
      "text/plain": "      Gaji\n0        0\n1        0\n2        0\n3        0\n4        0\n...    ...\n9594     0\n9595     0\n9596     0\n9597     0\n9598     0\n\n[9599 rows x 1 columns]",
      "text/html": "<div>\n<style scoped>\n    .dataframe tbody tr th:only-of-type {\n        vertical-align: middle;\n    }\n\n    .dataframe tbody tr th {\n        vertical-align: top;\n    }\n\n    .dataframe thead th {\n        text-align: right;\n    }\n</style>\n<table border=\"1\" class=\"dataframe\">\n  <thead>\n    <tr style=\"text-align: right;\">\n      <th></th>\n      <th>Gaji</th>\n    </tr>\n  </thead>\n  <tbody>\n    <tr>\n      <th>0</th>\n      <td>0</td>\n    </tr>\n    <tr>\n      <th>1</th>\n      <td>0</td>\n    </tr>\n    <tr>\n      <th>2</th>\n      <td>0</td>\n    </tr>\n    <tr>\n      <th>3</th>\n      <td>0</td>\n    </tr>\n    <tr>\n      <th>4</th>\n      <td>0</td>\n    </tr>\n    <tr>\n      <th>...</th>\n      <td>...</td>\n    </tr>\n    <tr>\n      <th>9594</th>\n      <td>0</td>\n    </tr>\n    <tr>\n      <th>9595</th>\n      <td>0</td>\n    </tr>\n    <tr>\n      <th>9596</th>\n      <td>0</td>\n    </tr>\n    <tr>\n      <th>9597</th>\n      <td>0</td>\n    </tr>\n    <tr>\n      <th>9598</th>\n      <td>0</td>\n    </tr>\n  </tbody>\n</table>\n<p>9599 rows × 1 columns</p>\n</div>"
     },
     "metadata": {},
     "execution_count": 220
    }
   ],
   "source": [
    "prediksi"
   ]
  },
  {
   "cell_type": "code",
   "execution_count": 221,
   "metadata": {},
   "outputs": [],
   "source": [
    "#mengabungkan df_id dan prediksi"
   ]
  },
  {
   "cell_type": "code",
   "execution_count": 222,
   "metadata": {},
   "outputs": [],
   "source": [
    "# list data yang akan di gabung\n",
    "gabung = [df_id, prediksi]\n",
    "# gabungkan data dengan metode concat dari pandas\n",
    "result = pd.concat(gabung, axis = 1)"
   ]
  },
  {
   "cell_type": "code",
   "execution_count": 223,
   "metadata": {},
   "outputs": [
    {
     "output_type": "execute_result",
     "data": {
      "text/plain": "         id  Gaji\n0     35994     0\n1     35995     0\n2     35996     0\n3     35997     0\n4     35998     0\n...     ...   ...\n9594  45588     0\n9595  45589     0\n9596  45590     0\n9597  45591     0\n9598  45592     0\n\n[9599 rows x 2 columns]",
      "text/html": "<div>\n<style scoped>\n    .dataframe tbody tr th:only-of-type {\n        vertical-align: middle;\n    }\n\n    .dataframe tbody tr th {\n        vertical-align: top;\n    }\n\n    .dataframe thead th {\n        text-align: right;\n    }\n</style>\n<table border=\"1\" class=\"dataframe\">\n  <thead>\n    <tr style=\"text-align: right;\">\n      <th></th>\n      <th>id</th>\n      <th>Gaji</th>\n    </tr>\n  </thead>\n  <tbody>\n    <tr>\n      <th>0</th>\n      <td>35994</td>\n      <td>0</td>\n    </tr>\n    <tr>\n      <th>1</th>\n      <td>35995</td>\n      <td>0</td>\n    </tr>\n    <tr>\n      <th>2</th>\n      <td>35996</td>\n      <td>0</td>\n    </tr>\n    <tr>\n      <th>3</th>\n      <td>35997</td>\n      <td>0</td>\n    </tr>\n    <tr>\n      <th>4</th>\n      <td>35998</td>\n      <td>0</td>\n    </tr>\n    <tr>\n      <th>...</th>\n      <td>...</td>\n      <td>...</td>\n    </tr>\n    <tr>\n      <th>9594</th>\n      <td>45588</td>\n      <td>0</td>\n    </tr>\n    <tr>\n      <th>9595</th>\n      <td>45589</td>\n      <td>0</td>\n    </tr>\n    <tr>\n      <th>9596</th>\n      <td>45590</td>\n      <td>0</td>\n    </tr>\n    <tr>\n      <th>9597</th>\n      <td>45591</td>\n      <td>0</td>\n    </tr>\n    <tr>\n      <th>9598</th>\n      <td>45592</td>\n      <td>0</td>\n    </tr>\n  </tbody>\n</table>\n<p>9599 rows × 2 columns</p>\n</div>"
     },
     "metadata": {},
     "execution_count": 223
    }
   ],
   "source": [
    "result"
   ]
  },
  {
   "cell_type": "code",
   "execution_count": 224,
   "metadata": {},
   "outputs": [],
   "source": [
    "result.to_csv(\"prediksi gilang.csv\")"
   ]
  },
  {
   "cell_type": "code",
   "execution_count": 225,
   "metadata": {},
   "outputs": [],
   "source": [
    "f=pd.read_csv(\"prediksi gilang.csv\")\n",
    "keep_col = [\"id\",\"Gaji\"]\n",
    "new_f = f[keep_col]\n",
    "new_f.to_csv(\"Result Lintang Gilang.csv\", index=False)"
   ]
  },
  {
   "cell_type": "code",
   "execution_count": null,
   "metadata": {},
   "outputs": [],
   "source": []
  },
  {
   "cell_type": "code",
   "execution_count": null,
   "metadata": {},
   "outputs": [],
   "source": []
  },
  {
   "cell_type": "code",
   "execution_count": 226,
   "metadata": {},
   "outputs": [],
   "source": [
    "###########################################################################################################################"
   ]
  },
  {
   "cell_type": "code",
   "execution_count": 227,
   "metadata": {},
   "outputs": [],
   "source": [
    "#############################################################################################################################"
   ]
  },
  {
   "cell_type": "code",
   "execution_count": null,
   "metadata": {},
   "outputs": [],
   "source": []
  }
 ],
 "metadata": {
  "kernelspec": {
   "display_name": "Python 3.8.3 32-bit",
   "language": "python",
   "name": "python38332bit80c551b5cd4f440baebd4540caf4fd7d"
  },
  "language_info": {
   "codemirror_mode": {
    "name": "ipython",
    "version": 3
   },
   "file_extension": ".py",
   "mimetype": "text/x-python",
   "name": "python",
   "nbconvert_exporter": "python",
   "pygments_lexer": "ipython3",
   "version": "3.8.3-final"
  }
 },
 "nbformat": 4,
 "nbformat_minor": 2
}