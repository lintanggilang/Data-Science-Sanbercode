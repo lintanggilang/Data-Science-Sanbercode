{
 "cells": [
  {
   "cell_type": "markdown",
   "metadata": {
    "colab_type": "text",
    "id": "Mk6qjezc8tPu"
   },
   "source": [
    "# Quiz Pekan - 3\n",
    "\n",
    "Dataset-dataset berikut ini menunjukkan persentase fat, protein, dan food yang dikonsumsi dari setiap jenis makanan yang terdaftar. Beberapa bagian akhir dataset juga mencakup persentase obesitas(Obesity), kurang gizi(Undernourished), dan kasus COVID-19 yang Terkonfirmasi(Confirmed)/Kematian(Deaths)/Sembuh(Recovered)/Aktif(Active).\n",
    "\n",
    "(Catatan: Semua data memiliki unit '%' (persen) kecuali Populasi, unit persen tersebut dihitung berdasarkan jumlah populasi).\n",
    "\n",
    "Link Download:\n",
    "\n",
    "[Food_Supply_Quantity_kg_Data.csv](https://drive.google.com/uc?export=download&id=1op0PFMMNglFtw8GVOF6HmomyAvgoY4jm)\n",
    "\n",
    "[Protein_Supply_Quantity_Data.csv](https://drive.google.com/uc?export=download&id=19vFZ1clhjY0vyC8onnlYE63w1QpmB4oj)\n",
    "\n",
    "[Fat_Supply_Quantity_Data.csv](https://drive.google.com/uc?export=download&id=1W1xIj5dGe9aLcg9cG6HVjlpdSqdlbue2)\n",
    "\n",
    "[Supply_Food_Data_Descriptions.csv](https://drive.google.com/uc?export=download&id=1hG4_-D0doXkTU1e7sqZabpRXgCkHt5Hr)"
   ]
  },
  {
   "cell_type": "code",
   "execution_count": 2,
   "metadata": {
    "colab": {},
    "colab_type": "code",
    "id": "NGNbQVKm4vgv"
   },
   "outputs": [],
   "source": [
    "import numpy as np\n",
    "import pandas as pd\n",
    "import matplotlib.pyplot as plt\n",
    "\n",
    "# Import Semua Data\n",
    "df_food = pd.read_csv('Food_Supply_Quantity_kg_Data.csv')\n",
    "df_protein = pd.read_csv('Protein_Supply_Quantity_Data.csv')\n",
    "df_fat = pd.read_csv('Fat_Supply_Quantity_Data.csv')\n",
    "df_category = pd.read_csv('Supply_Food_Data_Descriptions.csv')"
   ]
  },
  {
   "cell_type": "markdown",
   "metadata": {
    "colab_type": "text",
    "id": "Aj2MY336-ylZ"
   },
   "source": [
    "---"
   ]
  },
  {
   "cell_type": "markdown",
   "metadata": {
    "colab_type": "text",
    "id": "xWD8Zh-r_TxA"
   },
   "source": [
    "# Soal 1: Memisahkan kolom pada supply dataset antara kategori makanan dan bukan makanan"
   ]
  },
  {
   "cell_type": "markdown",
   "metadata": {
    "colab_type": "text",
    "id": "s4OM-RnaAQKl"
   },
   "source": [
    "Teman-teman diminta untuk menampilkan list kolom-kolom pada supply DataFrame dengan ketentuan sebagai berikut:\n",
    "\n",
    "*   all columns: list yang berisikan semua kolom pada supply DataFrame\n",
    "*   supply columns: list yang berisikan semua kolom pada supply DataFrame berdasarkan kolom 'Categories' pada DataFrame df_category\n",
    "*   non-supply columns: list yang berisikan semua kolom non-supply pada supply DataFrame\n"
   ]
  },
  {
   "cell_type": "code",
   "execution_count": 6,
   "metadata": {
    "colab": {},
    "colab_type": "code",
    "id": "8aHiCSZh5q1g"
   },
   "outputs": [
    {
     "name": "stdout",
     "output_type": "stream",
     "text": [
      "All Columns : ['Country', 'Alcoholic Beverages', 'Animal fats', 'Animal Products', 'Aquatic Products, Other', 'Cereals - Excluding Beer', 'Eggs', 'Fish, Seafood', 'Fruits - Excluding Wine', 'Meat', 'Milk - Excluding Butter', 'Miscellaneous', 'Offals', 'Oilcrops', 'Pulses', 'Spices', 'Starchy Roots', 'Stimulants', 'Sugar & Sweeteners', 'Sugar Crops', 'Treenuts', 'Vegetable Oils', 'Vegetables', 'Vegetal Products', 'Obesity', 'Undernourished', 'Confirmed', 'Deaths', 'Recovered', 'Active', 'Population', 'Unit (all except Population)'] \n",
      "\n",
      "\n"
     ]
    }
   ],
   "source": [
    "# Example\n",
    "all_columns = df_food.columns.tolist()\n",
    "print(f'All Columns : {all_columns} \\n\\n')\n",
    "\n",
    "# Code here"
   ]
  },
  {
   "cell_type": "markdown",
   "metadata": {
    "colab_type": "text",
    "id": "A84xqzyoC0jU"
   },
   "source": [
    "Expected Output:\n",
    "\n",
    "![Expected Output:](https://drive.google.com/uc?id=1ItjI9ALd2I8tgJ2i8pa_UjdFfKS35mNu)"
   ]
  },
  {
   "cell_type": "markdown",
   "metadata": {
    "colab_type": "text",
    "id": "gnRBLXPZC3PD"
   },
   "source": [
    "---"
   ]
  },
  {
   "cell_type": "markdown",
   "metadata": {
    "colab_type": "text",
    "id": "zVjfRh2xDC8g"
   },
   "source": [
    "# Soal 2: Menggabungkan DataFrame\n",
    "\n"
   ]
  },
  {
   "cell_type": "markdown",
   "metadata": {
    "colab_type": "text",
    "id": "-xRZSuKBDYeQ"
   },
   "source": [
    "Gabungkan semua supply DataFrame dengan ketentuan tidak ada kolom dengan nama yang sama. Untuk kolom-kolom non-supply seperti tersebut di atas, memiliki nilai yang sama untuk setiap DataFrame, sehingga cukup ambil dari salah satu DataFrame. Sedangkan untuk kolom-kolom supply seperti tersebut di atas, setiap DataFrame (df_food, df_protein, df_fat) memiliki nilai yang berbeda, sehingga teman-teman perlu menambahkan suffix berdasarkan jenis supply DataFrame-nya, misalkan untuk kolom 'eggs' teman teman harus menambahkan suffix sehingga DataFrame gabungan memiliki kolom 'eggs_food', 'eggs_protein', dan 'eggs_fat'. Untuk mendapatkan gambaran lebih jelas, silahkan lihat pada expected output."
   ]
  },
  {
   "cell_type": "markdown",
   "metadata": {
    "colab_type": "text",
    "id": "UWBJLohAKODF"
   },
   "source": [
    "List kolom-kolom DataFrame hasil gabungan adalah sebagai berikut:\n",
    "\n",
    "\n",
    "```\n",
    " ['Country', 'Alcoholic Beverages_food', 'Animal fats_food',\n",
    "  'Animal Products_food', 'Aquatic Products, Other_food',\n",
    "  'Cereals - Excluding Beer_food', 'Eggs_food', 'Fish, Seafood_food',\n",
    "  'Fruits - Excluding Wine_food', 'Meat_food',\n",
    "  'Milk - Excluding Butter_food', 'Miscellaneous_food', 'Offals_food',\n",
    "  'Oilcrops_food', 'Pulses_food', 'Spices_food', 'Starchy Roots_food',\n",
    "  'Stimulants_food', 'Sugar & Sweeteners_food', 'Sugar Crops_food',\n",
    "  'Treenuts_food', 'Vegetable Oils_food', 'Vegetables_food',\n",
    "  'Vegetal Products_food', 'Alcoholic Beverages_protein',\n",
    "  'Animal fats_protein', 'Animal Products_protein',\n",
    "  'Aquatic Products, Other_protein', 'Cereals - Excluding Beer_protein',\n",
    "  'Eggs_protein', 'Fish, Seafood_protein',\n",
    "  'Fruits - Excluding Wine_protein', 'Meat_protein',\n",
    "  'Milk - Excluding Butter_protein', 'Miscellaneous_protein',\n",
    "  'Offals_protein', 'Oilcrops_protein', 'Pulses_protein',\n",
    "  'Spices_protein', 'Starchy Roots_protein', 'Stimulants_protein',\n",
    "  'Sugar & Sweeteners_protein', 'Sugar Crops_protein', 'Treenuts_protein',\n",
    "  'Vegetable Oils_protein', 'Vegetables_protein',\n",
    "  'Vegetal Products_protein', 'Alcoholic Beverages_fat',\n",
    "  'Animal fats_fat', 'Animal Products_fat', 'Aquatic Products, Other_fat',\n",
    "  'Cereals - Excluding Beer_fat', 'Eggs_fat', 'Fish, Seafood_fat',\n",
    "  'Fruits - Excluding Wine_fat', 'Meat_fat',\n",
    "  'Milk - Excluding Butter_fat', 'Miscellaneous_fat', 'Offals_fat',\n",
    "  'Oilcrops_fat', 'Pulses_fat', 'Spices_fat', 'Starchy Roots_fat',\n",
    "  'Stimulants_fat', 'Sugar & Sweeteners_fat', 'Sugar Crops_fat',\n",
    "  'Treenuts_fat', 'Vegetable Oils_fat', 'Vegetables_fat',\n",
    "  'Vegetal Products_fat', 'Obesity', 'Undernourished', 'Confirmed',\n",
    "  'Deaths', 'Recovered', 'Active', 'Population',\n",
    "  'Unit (all except Population)']\n",
    "```"
   ]
  },
  {
   "cell_type": "code",
   "execution_count": null,
   "metadata": {
    "colab": {},
    "colab_type": "code",
    "id": "v8_WdQrCFvbY"
   },
   "outputs": [],
   "source": [
    "# Hint\n",
    "df_non_supply_new = df_food[non_supply_columns]\n",
    "df_food_new = df_food[['Country']+supply_columns]\n",
    "df_protein_new = df_protein[['Country']+supply_columns]\n",
    "df_fat_new = df_fat[['Country']+supply_columns]"
   ]
  },
  {
   "cell_type": "code",
   "execution_count": null,
   "metadata": {
    "colab": {},
    "colab_type": "code",
    "id": "jtV0pJZGFwne"
   },
   "outputs": [],
   "source": [
    "# Selanjutnya gabungkan dataset pada hint di atas dengan menambahkan suffix berbeda untuk setiap supply dataset menggunakan pd.merge\n",
    "# Code here\n",
    "df = pd.merge(...)\n",
    "\n",
    "df"
   ]
  },
  {
   "cell_type": "markdown",
   "metadata": {
    "colab_type": "text",
    "id": "5xLsdo-1vmk3"
   },
   "source": [
    "Expected output (kolom tidak semua ditampilkan):\n",
    "![Expected Output:](https://drive.google.com/uc?id=1_thZs6C82RhDFqWo5yGuZV_OWhgvqsnu)"
   ]
  },
  {
   "cell_type": "markdown",
   "metadata": {
    "colab_type": "text",
    "id": "8eRlFcl7IY-L"
   },
   "source": [
    "---"
   ]
  },
  {
   "cell_type": "markdown",
   "metadata": {
    "colab_type": "text",
    "id": "1O9_Cu_gIaxd"
   },
   "source": [
    "# Soal 3: Sorting dan Filtering"
   ]
  },
  {
   "cell_type": "markdown",
   "metadata": {
    "colab_type": "text",
    "id": "iIPsCyFSIh27"
   },
   "source": [
    "Dari DataFrame hasil penggabungan pada Soal 2 (atau gunakan salah satu supply DataFrame karena kolom nilai non-supply memiliki nilai yang sama), kemudian urutkan data (sort) berdasarkan kolom kematian ('Deaths') dari yang terbesar. Setelah itu lakukan perintah berikut:\n",
    "\n",
    "- Print data hasil sorting\n",
    "- Urutan ke berapakah Indonesia berdasarkan tingkat kematian akibat COVID-19 setelah diurutkan dari yang terbesar? Gunakan code mendapatkan nilainya! \n",
    "- Berapa persen dari terkonfirmasi jumlah kematian akibat COVID-19 di Indonesia? Hitung jumlah orang yang meninggal! Gunakan code mendapatkan nilainya! #hint: jumlah orang yang meninggal = populasi * kematian --> jangan lupa ada yang masih dalam persen\n"
   ]
  },
  {
   "cell_type": "code",
   "execution_count": null,
   "metadata": {
    "colab": {},
    "colab_type": "code",
    "id": "n1yZCZ4bOo6m"
   },
   "outputs": [],
   "source": [
    "# Urutkan (sorting) dan print hasil sorting\n",
    "# Code here"
   ]
  },
  {
   "cell_type": "code",
   "execution_count": null,
   "metadata": {
    "colab": {},
    "colab_type": "code",
    "id": "FnohMVQwP8Og"
   },
   "outputs": [],
   "source": [
    "# Urutan ke berapakah Indonesia\n",
    "# Code here"
   ]
  },
  {
   "cell_type": "code",
   "execution_count": null,
   "metadata": {
    "colab": {},
    "colab_type": "code",
    "id": "OAzky41S6eAm"
   },
   "outputs": [],
   "source": [
    "# Berapa persen jumlah kematian di Indonesia? Berapa Jumlahnya?\n",
    "# Code here\n",
    "meninggal_persen = \n",
    "meninggal = \n",
    "\n",
    "print(f'Jumlah yang meninggal di Indonesia ada {round(meninggal_persen, 10)}% dari jumlah populasi.') # 10 digit\n",
    "print(f'Jumlah yang meninggal di Indonesia ada {round(meninggal)} orang.')"
   ]
  },
  {
   "cell_type": "markdown",
   "metadata": {
    "colab_type": "text",
    "id": "Ur4P17eNVIDU"
   },
   "source": [
    "---"
   ]
  },
  {
   "cell_type": "markdown",
   "metadata": {
    "colab_type": "text",
    "id": "zOvEqSmuUsXy"
   },
   "source": [
    "# Soal 4: Binning, Grouping, dan Aggregating data"
   ]
  },
  {
   "cell_type": "markdown",
   "metadata": {
    "colab_type": "text",
    "id": "mLxskYLCTYFT"
   },
   "source": [
    "Lakukan binning pada kolom terkonfirmasi (Confirmed) COVID-19 dari DataFrame df_fat menjadi 5 bagian (q=5). Teman-teman dapat menggunakan fungsi qcut untuk melakukan bininng ini. Masukan data hasil binning tersebut menjadi kolom baru pada DataFrame df_fat. Beri nama kolom tersebut dengan 'Confirmed Category'. Berikan label 'Sangat Tidak Banyak', 'Tidak Banyak', 'Sedang', 'Cukup Banyak', 'Sangat Banyak'.\n",
    "\n",
    "Baca dokumentasi berikut untuk fungsi qcut : https://pandas.pydata.org/pandas-docs/stable/reference/api/pandas.qcut.html\n",
    "\n",
    "Kemudian lakukan perintah-perintah berikut:\n",
    "- Buat DataFrame baru yang berisi data grouping berdasarkan kolom hasil bininng atau kolom 'Confirmed Category'. \n",
    "- Lakukan grouping hanya pada kolom 'Obesity', 'Meat', 'Fruits - Excluding Wine', 'Fish, Seafood', 'Animal Products', 'Vegetal Products' saja.\n",
    "- Kemudian aggregate dengan fungsi mean. (df_baru = df_fat.groupby(...).mean())\n",
    "- Save DataFrame hasil binning, grouping, dan aggregating ke dalam file csv."
   ]
  },
  {
   "cell_type": "code",
   "execution_count": null,
   "metadata": {
    "colab": {},
    "colab_type": "code",
    "id": "l8o8Gu2If9N6"
   },
   "outputs": [],
   "source": [
    "# Lakukan binning pada kolom terkonfirmasi untuk DataFrame df_fat\n",
    "labels = ['Sangat Tidak Banyak', 'Tidak Banyak', 'Sedang', 'Cukup Banyak', 'Sangat Banyak']\n",
    "\n",
    "# Code here\n",
    "df_fat['Confirmed Category'] = ..."
   ]
  },
  {
   "cell_type": "code",
   "execution_count": null,
   "metadata": {
    "colab": {},
    "colab_type": "code",
    "id": "wH_Twtg9gLHZ"
   },
   "outputs": [],
   "source": [
    "# Lakukan grouping pada kolom hasil binning ('Confirmed Category'), kemudian aggregate menggunakan fungsi mean\n",
    "cols = ['Obesity', 'Meat', 'Fruits - Excluding Wine', 'Fish, Seafood', 'Animal Products', 'Vegetal Products']\n",
    "\n",
    "# Code here\n",
    "groupby_confirmed = ...\n",
    "groupby_confirmed"
   ]
  },
  {
   "cell_type": "markdown",
   "metadata": {
    "colab_type": "text",
    "id": "uoPr2JSfwi5x"
   },
   "source": [
    "Expected output:\n",
    "![Expected Output:](https://drive.google.com/uc?id=1jw1uGaSHaKlY9ILghmTTlO9NqhQpq8Ad)"
   ]
  },
  {
   "cell_type": "code",
   "execution_count": null,
   "metadata": {
    "colab": {},
    "colab_type": "code",
    "id": "ylCxhoZIhQ1J"
   },
   "outputs": [],
   "source": [
    "# Save DataFrame hasil binning, grouping, dan aggregating\n",
    "\n",
    "groupby_confirmed.to_csv('groupby_confirmed.csv')"
   ]
  },
  {
   "cell_type": "markdown",
   "metadata": {
    "colab_type": "text",
    "id": "QXt4J6-ki7yV"
   },
   "source": [
    "---"
   ]
  },
  {
   "cell_type": "markdown",
   "metadata": {
    "colab_type": "text",
    "id": "KYkVllUIi9gk"
   },
   "source": [
    "# Soal 5: Bar plot"
   ]
  },
  {
   "cell_type": "markdown",
   "metadata": {
    "colab_type": "text",
    "id": "oW_a_78Fjkbx"
   },
   "source": [
    "Gunakan data grouping pada soal sebelumnya untuk melakukan visualisasi. Jika kalian tidak dapat menyelesaikan soal tersebut, maka silahkan [download](https://drive.google.com/uc?export=download&id=1l5wFAKKShPQQvIe0rQ7C4Xog9tt_WDN0) data berikut yang merupakan hasil dari data grouping soal 4.\n",
    "\n",
    "Normalisasi data hasil grouping tersebut dengan rumus min-max normalisasi seperti rumus berikut ini. Kemudian buatlah grouping Visualization dengan berplot, visualisasikan data column 'Obesity', 'Fruits - Excluding Wine', 'Fish, Seafood', 'Animal Products' dan 'Vegetal Products'. "
   ]
  },
  {
   "cell_type": "markdown",
   "metadata": {
    "colab_type": "text",
    "id": "884pC4nnWZVg"
   },
   "source": [
    "\\begin{equation*}\n",
    " X_{norm} = \\dfrac{X - X_{min}}{X_{max} - X_{min}}\n",
    "\\end{equation*}\n"
   ]
  },
  {
   "cell_type": "code",
   "execution_count": null,
   "metadata": {
    "colab": {},
    "colab_type": "code",
    "id": "-5tpx0PNlUQx"
   },
   "outputs": [],
   "source": [
    "# Gunakan DataFrame hasil grouping soal 4 atau read data hasil download jika tidak dapat mengerjakan soal 4\n",
    "df = groupby_confirmed\n",
    "\n",
    "# Atau\n",
    "\n",
    "df = pd.read_csv('groupby_confirmed.csv').set_index('Confirmed Category')\n",
    "\n",
    "# Lihat df dan pastikan sesuai dengan expected output pada soal 4\n",
    "display(df)"
   ]
  },
  {
   "cell_type": "code",
   "execution_count": null,
   "metadata": {
    "colab": {},
    "colab_type": "code",
    "id": "nokTOpibmhD0"
   },
   "outputs": [],
   "source": [
    "# Lakukan normalisasi pada DataFrame df\n",
    "# Code here\n",
    "df_norm = \n",
    "\n",
    "# Lihat df_norm dan pastikan sesuai dengan expected output\n",
    "display(df_norm)"
   ]
  },
  {
   "cell_type": "markdown",
   "metadata": {
    "colab_type": "text",
    "id": "37rjPjbanRNY"
   },
   "source": [
    "Expected output:\n",
    "![Expected Output:](https://drive.google.com/uc?id=1BFzcOFHbZMnw0wqbwl8K6IEiVmurqG84)"
   ]
  },
  {
   "cell_type": "code",
   "execution_count": null,
   "metadata": {
    "colab": {},
    "colab_type": "code",
    "id": "lMzOW9t7nU-I"
   },
   "outputs": [],
   "source": [
    "# Buat bar plot dari df_norm sesuai dengan expected output\n",
    "# Code here\n",
    "\n",
    "\n",
    "# Untuk menambahkan label di atas barplot lihat https://matplotlib.org/3.1.1/gallery/lines_bars_and_markers/barchart.html\n",
    "\n",
    "# fig.legend()\n",
    "# plt.show()"
   ]
  },
  {
   "cell_type": "markdown",
   "metadata": {
    "colab_type": "text",
    "id": "FIul1KSeoMsh"
   },
   "source": [
    "Expected output:\n",
    "![Expected Output:](https://drive.google.com/uc?id=11x5OMAB8mbZurD0qntxcwOcWYCQSegy8)\n"
   ]
  },
  {
   "cell_type": "markdown",
   "metadata": {
    "colab_type": "text",
    "id": "KZJq0YxNp7bM"
   },
   "source": [
    "---"
   ]
  },
  {
   "cell_type": "markdown",
   "metadata": {
    "colab_type": "text",
    "id": "LoJ9IXHBp890"
   },
   "source": [
    "# Soal 6: Scatter plot\n"
   ]
  },
  {
   "cell_type": "markdown",
   "metadata": {
    "colab_type": "text",
    "id": "5sQPxjyIrrkM"
   },
   "source": [
    "Buatlah visualisasi scatter plot dari df_food antara Supply Sayuran ('Vegetal Products') dan persentase terkonfirmasi ('Confirmed') COVID-19 sesuai expected output dengan ketentuan berikut:\n",
    "\n",
    "\n",
    "* Gunakan kolom persentase kematian ('Death') sebagai ukuran pointnya kalikan suatu angka yang cukup besar agar terlihat.\n",
    "    \n",
    "* Gunakan kolom persentase produk hewani ('Animal Products') sebagai warna point, berikan colormap 'viridis'."
   ]
  },
  {
   "cell_type": "code",
   "execution_count": null,
   "metadata": {
    "colab": {},
    "colab_type": "code",
    "id": "8-nxlX2zp8Lw"
   },
   "outputs": [],
   "source": [
    "fig, ax = plt.subplots(figsize=(18, 12))\n",
    "\n",
    "# Code here\n",
    "\n",
    "plt.show()"
   ]
  },
  {
   "cell_type": "markdown",
   "metadata": {
    "colab_type": "text",
    "id": "aBr40jb0uXSg"
   },
   "source": [
    "Expected output:\n",
    "![Expected Output:](https://drive.google.com/uc?id=1wJh3tfkPbrkf3_F73RW0kABBt_NO8q53)"
   ]
  }
 ],
 "metadata": {
  "colab": {
   "authorship_tag": "ABX9TyOIzMCQPPRhLt9bnYEJxo5m",
   "collapsed_sections": [],
   "name": "Quiz Pekan - 3.ipynb",
   "provenance": []
  },
  "kernelspec": {
   "display_name": "Python 3",
   "language": "python",
   "name": "python3"
  },
  "language_info": {
   "codemirror_mode": {
    "name": "ipython",
    "version": 3
   },
   "file_extension": ".py",
   "mimetype": "text/x-python",
   "name": "python",
   "nbconvert_exporter": "python",
   "pygments_lexer": "ipython3",
   "version": "3.7.6"
  }
 },
 "nbformat": 4,
 "nbformat_minor": 1
}
