{
 "cells": [
  {
   "cell_type": "code",
   "execution_count": 1,
   "metadata": {
    "tags": []
   },
   "outputs": [
    {
     "output_type": "stream",
     "name": "stdout",
     "text": "\nokkkkk\n"
    }
   ],
   "source": [
    "import random\n",
    "\n",
    "Jwb_Lintang = [\n",
    "    \"Cowo\",\n",
    "    \"Ayah\"\n",
    "    ]\n",
    "\n",
    "Jwb_Rindhy = [\n",
    "    \"Cewe\",\n",
    "    \"Mama\"\n",
    "    ]\n",
    "\n",
    "default = \"saya tidak mengeti\"\n",
    "\n",
    "J_statment = [\n",
    "    \"okkkkk\",\n",
    "    \"oce\"\n",
    "    ]\n",
    "\n",
    "test_tanya = {\n",
    "    \"1?\":Jwb_Lintang,\n",
    "    \"2?\":Jwb_Lintang,\n",
    "    \"3?\":Jwb_Rindhy,\n",
    "    \"4?\":Jwb_Rindhy,\n",
    "    \"5\":default\n",
    "    }\n",
    "\n",
    "respone = {\n",
    "    \"Pertanyaan\":test_tanya,\n",
    "    \"statment\":J_statment\n",
    "    }\n",
    "\n",
    "\n",
    "masukan = input(\"masukan : \")\n",
    "print(masukan)\n",
    "\n",
    "\n",
    "if (masukan in test_tanya) and (\"?\" in masukan):\n",
    "    cektanya = respone[\"Pertanyaan\"]\n",
    "    testtanya = test_tanya[masukan]\n",
    "    acak = random.choice(testtanya)\n",
    "    print(acak)\n",
    "elif (masukan not in test_tanya) and (\"?\" in masukan):\n",
    "    cektanya = respone[\"Pertanyaan\"]\n",
    "    testtanya = test_tanya[\"5\"]\n",
    "    print(testtanya)\n",
    "else:\n",
    "    cektanya = respone[\"statment\"]\n",
    "    acak = random.choice(cektanya)\n",
    "    print(acak)\n",
    "\n"
   ]
  },
  {
   "cell_type": "code",
   "execution_count": null,
   "metadata": {},
   "outputs": [],
   "source": []
  }
 ],
 "metadata": {
  "language_info": {
   "codemirror_mode": {
    "name": "ipython",
    "version": 3
   },
   "file_extension": ".py",
   "mimetype": "text/x-python",
   "name": "python",
   "nbconvert_exporter": "python",
   "pygments_lexer": "ipython3",
   "version": "3.8.3-final"
  },
  "orig_nbformat": 2,
  "kernelspec": {
   "name": "python38332bit80c551b5cd4f440baebd4540caf4fd7d",
   "display_name": "Python 3.8.3 32-bit"
  }
 },
 "nbformat": 4,
 "nbformat_minor": 2
}